{
 "cells": [
  {
   "cell_type": "code",
   "execution_count": 1,
   "id": "5bd0b983-0512-4634-809d-06115baff90f",
   "metadata": {
    "tags": []
   },
   "outputs": [],
   "source": [
    "from dustpy import Simulation\n",
    "from dustpy import constants as c\n",
    "from dustpy import hdf5writer\n",
    "\n",
    "import numpy as np\n",
    "from matplotlib.colors import ListedColormap"
   ]
  },
  {
   "cell_type": "code",
   "execution_count": 2,
   "id": "b97b02b8-b329-47a6-97a1-d75eb81e33c4",
   "metadata": {},
   "outputs": [],
   "source": [
    "sim = Simulation()\n",
    "sim.ini.star.M = 0.3*c.M_sun\n",
    "\n",
    "sim.ini.gas.Mdisk = 0.01*c.M_sun        \n",
    "sim.ini.gas.SigmaRc = 50.*c.au          \n",
    "sim.ini.gas.gamma = 1.0  \n",
    "sim.ini.gas.alpha = 1e-3\n",
    "\n",
    "# Relevant Dust parameters\n",
    "sim.ini.dust.d2gRatio = 0.01                # Initial dust-to-gas ratio              \n",
    "sim.ini.dust.vfrag = 1000.0                 # Dust fragmentation velocity [cm/s]\n",
    "\n",
    "sim.ini.grid.Nr = 500\n",
    "sim.ini.grid.rmin = 5*c.au\n",
    "sim.ini.grid.rmax = 1000*c.au\n",
    "sim.ini.grid.Nmbpd = 7\n",
    "sim.ini.grid.mmin = 1.e-12\n",
    "sim.ini.grid.mmax = 1.e+5\n",
    "\n",
    "option_sqrt_grid = True         \n",
    "option_track_lostdust = False\n",
    "option_gasonly = True\n",
    "\n",
    "if option_gasonly:\n",
    "    sim.ini.grid.Nmbpd = 2\n",
    "    sim.ini.grid.mmax = 1e-10\n",
    "\n",
    "if option_sqrt_grid:\n",
    "    sim.grid.ri = np.square(np.linspace(np.sqrt(sim.ini.grid.rmin), np.sqrt(sim.ini.grid.rmax), num = sim.ini.grid.Nr +1))\n",
    "\n",
    "sim.initialize()\n",
    "setup_ext_pe_FRIED(sim, fried_filenames = [\"./FRIEDV2_0p1Msol_fPAH1p0_growth.dat\",\"./FRIEDV2_0p3Msol_fPAH1p0_growth.dat\",\"./FRIEDV2_0p6Msol_fPAH1p0_growth.dat\",\"./FRIEDV2_1p0Msol_fPAH1p0_growth.dat\",\"./FRIEDV2_1p5Msol_fPAH1p0_growth.dat\",\"./FRIEDV2_3p0Msol_fPAH1p0_growth.dat\"], UV_Flux = fuv)\n",
    "        \n",
    "T_sun = 5772.\n",
    "L_sun = 4. * c.pi * c.R_sun**2 * c.sigma_sb * T_sun**4\n",
    "        \n",
    "sim.star.L = 0.3 * L_sun       # as a representative value for our stars\n",
    "sim.star.L.updater = None"
   ]
  }
 ],
 "metadata": {
  "kernelspec": {
   "display_name": "Python 3 (ipykernel)",
   "language": "python",
   "name": "python3"
  },
  "language_info": {
   "codemirror_mode": {
    "name": "ipython",
    "version": 3
   },
   "file_extension": ".py",
   "mimetype": "text/x-python",
   "name": "python",
   "nbconvert_exporter": "python",
   "pygments_lexer": "ipython3",
   "version": "3.11.7"
  }
 },
 "nbformat": 4,
 "nbformat_minor": 5
}
