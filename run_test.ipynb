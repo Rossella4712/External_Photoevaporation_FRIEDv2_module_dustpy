{
 "cells": [
  {
   "cell_type": "code",
   "execution_count": 15,
   "id": "5bd0b983-0512-4634-809d-06115baff90f",
   "metadata": {
    "tags": []
   },
   "outputs": [],
   "source": [
    "from dustpy import Simulation\n",
    "from dustpy import constants as c\n",
    "from setup_ext_pe import param_ext_pe_FRIED, setup_ext_pe_FRIED\n",
    "from functions_ext_pe import S_gas_epe, S_dust_epe\n",
    "\n",
    "import numpy as np"
   ]
  },
  {
   "cell_type": "code",
   "execution_count": 22,
   "id": "b97b02b8-b329-47a6-97a1-d75eb81e33c4",
   "metadata": {},
   "outputs": [],
   "source": [
    "sim = Simulation()\n",
    "sim.ini.star.M = 0.3*c.M_sun\n",
    "sim.ini.gas.Mdisk = 0.01*c.M_sun        \n",
    "sim.ini.gas.SigmaRc = 50.*c.au          \n",
    "sim.ini.gas.gamma = 1.0  \n",
    "sim.ini.gas.alpha = 1e-3\n",
    "\n",
    "# Relevant Dust parameters\n",
    "sim.ini.dust.d2gRatio = 0.01                # Initial dust-to-gas ratio              \n",
    "sim.ini.dust.vfrag = 1000.0                 # Dust fragmentation velocity [cm/s]\n",
    "\n",
    "sim.ini.grid.Nr = 260\n",
    "sim.ini.grid.rmin = 5*c.au\n",
    "sim.ini.grid.rmax = 1000*c.au\n",
    "sim.ini.grid.Nmbpd = 7\n",
    "sim.ini.grid.mmin = 1.e-12\n",
    "sim.ini.grid.mmax = 1.e+5\n",
    "\n",
    "ext_pe=True\n",
    "option_sqrt_grid = True         \n",
    "option_track_lostdust = False\n",
    "option_gasonly = True\n",
    "\n",
    "#| to speed up the simulation in the gas-only case:\n",
    "if option_gasonly:\n",
    "    sim.ini.grid.Nmbpd = 2\n",
    "    sim.ini.grid.mmax = 1e-10\n",
    "\n",
    "#| refine the grid\n",
    "if option_sqrt_grid:\n",
    "    sim.grid.ri = np.square(np.linspace(np.sqrt(sim.ini.grid.rmin), np.sqrt(sim.ini.grid.rmax), num = sim.ini.grid.Nr +1))\n",
    "\n",
    "#| initialize ext_pe parameters\n",
    "\n",
    "sim.initialize()\n",
    "param_ext_pe_FRIED(sim, UV_Flux=100.)\n",
    "\n",
    "setup_ext_pe_FRIED(sim)\n",
    "\n",
    "#| update the external source term\n",
    "if ext_pe:\n",
    "    sim.gas.S.ext.updater = S_gas_epe\n",
    "    sim.dust.S.ext.updater = S_dust_epe\n",
    "    sim.update()\n",
    "\n",
    "if option_track_lostdust:\n",
    "        setup_lostdust(sim, using_FRIED = True)\n",
    "\n",
    "\n",
    "def setup_gasonly(sim):\n",
    "    '''\n",
    "    This routine deactivates all dust evolution source terms and integration instructions.\n",
    "    Call it after setting up everything else in the simulation.\n",
    "    '''\n",
    "    sim.dust.S.coag[...] = 0.\n",
    "    sim.dust.S.coag.updater = None\n",
    "    sim.dust.S.ext[...] = 0.\n",
    "    sim.dust.S.ext.updater = None\n",
    "    sim.dust.S.hyd[...] = 0.\n",
    "    sim.dust.S.hyd.updater = None\n",
    "    sim.dust.S.tot[...] = 0.\n",
    "    sim.dust.S.tot.updater = None\n",
    "    sim.dust.S.updater = None\n",
    "    del(sim.integrator.instructions[0])\n",
    "    sim.update()\n",
    "\n",
    "\n",
    "if option_gasonly:\n",
    "    setup_gasonly(sim)"
   ]
  },
  {
   "cell_type": "code",
   "execution_count": 23,
   "id": "1238c93c-165b-4af1-86f3-258988c80de6",
   "metadata": {},
   "outputs": [],
   "source": []
  },
  {
   "cell_type": "code",
   "execution_count": null,
   "id": "4f9cf365-3f81-4c45-bcbf-945db5344bff",
   "metadata": {},
   "outputs": [],
   "source": [
    "snapshots1 = np.logspace(3,6,9,endpoint=False)\n",
    "snapshots2 = np.linspace(1, 10, 19) * 1e+6\n",
    "\n",
    "sim.t.snapshots = np.concatenate((snapshots1, snapshots2))* c.year\n",
    "\n",
    "sim.writer.datadir='test_dir'\n",
    "sim.writer.dumping = False\n",
    "sim.writer.overwrite = True\n",
    "sim.verbosity = 2\n",
    "    \n",
    "sim.run()"
   ]
  },
  {
   "cell_type": "code",
   "execution_count": null,
   "id": "a5cc733e-bd99-430e-b075-911f695f3dc8",
   "metadata": {},
   "outputs": [],
   "source": []
  }
 ],
 "metadata": {
  "kernelspec": {
   "display_name": "Python 3 (ipykernel)",
   "language": "python",
   "name": "python3"
  },
  "language_info": {
   "codemirror_mode": {
    "name": "ipython",
    "version": 3
   },
   "file_extension": ".py",
   "mimetype": "text/x-python",
   "name": "python",
   "nbconvert_exporter": "python",
   "pygments_lexer": "ipython3",
   "version": "3.10.12"
  }
 },
 "nbformat": 4,
 "nbformat_minor": 5
}
